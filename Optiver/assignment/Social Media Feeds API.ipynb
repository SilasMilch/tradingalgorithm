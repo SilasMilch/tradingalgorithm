{
 "cells": [
  {
   "cell_type": "code",
   "execution_count": 1,
   "id": "69a933d1-f65e-414a-9a4b-5f803d1d11e6",
   "metadata": {},
   "outputs": [],
   "source": [
    "import datetime as dt\n",
    "import time\n",
    "import logging\n",
    "\n",
    "from optibook.synchronous_client import Exchange\n",
    "from optibook.common_types import SocialMediaFeed\n",
    "logging.getLogger('client').setLevel('ERROR')    "
   ]
  },
  {
   "cell_type": "code",
   "execution_count": 2,
   "id": "74e071e1-bf72-4cee-8d59-a01212bceb0f",
   "metadata": {},
   "outputs": [
    {
     "name": "stderr",
     "output_type": "stream",
     "text": [
      "2023-08-18 09:52:47,692 [asyncio   ] [MainThread  ] Using selector: EpollSelector\n"
     ]
    }
   ],
   "source": [
    "exchange = Exchange()\n",
    "exchange.connect()"
   ]
  },
  {
   "cell_type": "code",
   "execution_count": 3,
   "id": "eaaf4b90-89c0-465d-a1ad-9fae4a1fbaab",
   "metadata": {},
   "outputs": [
    {
     "name": "stdout",
     "output_type": "stream",
     "text": [
      "Help on method poll_new_social_media_feeds in module optibook.synchronous_client:\n",
      "\n",
      "poll_new_social_media_feeds() -> List[optibook.common_types.SocialMediaFeed] method of optibook.synchronous_client.Exchange instance\n",
      "    Returns the new social media feeds, posted since the last time this function was called.\n",
      "    For admin clients, the feed contains the post and metadata\n",
      "    \n",
      "    Returns\n",
      "    -------\n",
      "        Returns a list with the feeds\n",
      "\n"
     ]
    }
   ],
   "source": [
    "help(exchange.poll_new_social_media_feeds)"
   ]
  },
  {
   "cell_type": "code",
   "execution_count": 4,
   "id": "be20c022-7dfa-415a-b17f-c2ac76cf4cf6",
   "metadata": {},
   "outputs": [
    {
     "name": "stdout",
     "output_type": "stream",
     "text": [
      "Help on method get_social_media_feeds_history in module optibook.synchronous_client:\n",
      "\n",
      "get_social_media_feeds_history() -> List[optibook.common_types.SocialMediaFeed] method of optibook.synchronous_client.Exchange instance\n",
      "    Returns the new social media feeds since connection (up to a max cap)\n",
      "    \n",
      "    Returns\n",
      "    -------\n",
      "        Returns a list with the feeds\n",
      "\n"
     ]
    }
   ],
   "source": [
    "help(exchange.get_social_media_feeds_history)"
   ]
  },
  {
   "cell_type": "code",
   "execution_count": 5,
   "id": "297c9188-3cae-4e39-b8dd-460609330b63",
   "metadata": {},
   "outputs": [
    {
     "name": "stdout",
     "output_type": "stream",
     "text": [
      "Help on class SocialMediaFeed in module optibook.common_types:\n",
      "\n",
      "class SocialMediaFeed(builtins.object)\n",
      " |  Methods defined here:\n",
      " |  \n",
      " |  __init__(self, *, timestamp=None, post=None, meta_data=None)\n",
      " |      Initialize self.  See help(type(self)) for accurate signature.\n",
      " |  \n",
      " |  __repr__(self)\n",
      " |      Return repr(self).\n",
      " |  \n",
      " |  ----------------------------------------------------------------------\n",
      " |  Data descriptors defined here:\n",
      " |  \n",
      " |  __dict__\n",
      " |      dictionary for instance variables (if defined)\n",
      " |  \n",
      " |  __weakref__\n",
      " |      list of weak references to the object (if defined)\n",
      "\n"
     ]
    }
   ],
   "source": [
    "help(SocialMediaFeed)"
   ]
  },
  {
   "cell_type": "code",
   "execution_count": null,
   "id": "46df9371-ec0f-45fb-b2b8-9eb31bb2e3e8",
   "metadata": {},
   "outputs": [],
   "source": [
    "while True:\n",
    "    social_feeds = exchange.poll_new_social_media_feeds()\n",
    "    \n",
    "    if not social_feeds:\n",
    "        print(f'{dt.datetime.now()}: no new messages')\n",
    "    else:\n",
    "        for feed in social_feeds:\n",
    "            print(f'{feed.timestamp}: {feed.post}')\n",
    "            \n",
    "    time.sleep(3)"
   ]
  }
 ],
 "metadata": {
  "kernelspec": {
   "display_name": "Python 3",
   "language": "python",
   "name": "python3"
  },
  "language_info": {
   "codemirror_mode": {
    "name": "ipython",
    "version": 3
   },
   "file_extension": ".py",
   "mimetype": "text/x-python",
   "name": "python",
   "nbconvert_exporter": "python",
   "pygments_lexer": "ipython3",
   "version": "3.6.12"
  }
 },
 "nbformat": 4,
 "nbformat_minor": 5
}
