{
 "cells": [
  {
   "cell_type": "markdown",
   "id": "93acf2f5-b609-454f-9f2c-6bcb30177087",
   "metadata": {},
   "source": [
    "# Setup"
   ]
  },
  {
   "cell_type": "code",
   "execution_count": null,
   "id": "d8747b3f-8905-4336-9c4a-54744a8f40ba",
   "metadata": {},
   "outputs": [],
   "source": [
    "from optibook.synchronous_client import Exchange\n",
    "\n",
    "import time\n",
    "import logging\n",
    "logger = logging.getLogger('client')\n",
    "logger.setLevel('ERROR')\n",
    "\n",
    "print(\"Setup was successful.\")"
   ]
  },
  {
   "cell_type": "markdown",
   "id": "9ddb57ce-ac0e-4c06-b163-762452401011",
   "metadata": {},
   "source": [
    "# Connecting to the Exchange"
   ]
  },
  {
   "cell_type": "code",
   "execution_count": null,
   "id": "13dc8598-1e49-487c-ad39-3784eb7f7fa7",
   "metadata": {},
   "outputs": [],
   "source": [
    "# create a connection to the exchange\n",
    "exchange = Exchange()\n",
    "_ = exchange.connect()"
   ]
  },
  {
   "cell_type": "markdown",
   "id": "a403468f-0c55-48b1-834f-b806b34d3453",
   "metadata": {},
   "source": [
    "# Getting market information"
   ]
  },
  {
   "cell_type": "markdown",
   "id": "80532249",
   "metadata": {},
   "source": [
    "### Instrument Details"
   ]
  },
  {
   "cell_type": "code",
   "execution_count": null,
   "id": "271717f0",
   "metadata": {},
   "outputs": [
    {
     "data": {
      "text/plain": [
       "{'MKT3': Instrument(instrument_id=MKT3, tick_size=0.1, instrument_type=InstrumentType.STOCK, ...),\n",
       " 'MKT2': Instrument(instrument_id=MKT2, tick_size=0.1, instrument_type=InstrumentType.STOCK, ...),\n",
       " 'MKT1': Instrument(instrument_id=MKT1, tick_size=0.1, instrument_type=InstrumentType.STOCK, ...),\n",
       " 'TEST': Instrument(instrument_id=TEST, tick_size=0.1, instrument_type=InstrumentType.STOCK, ...),\n",
       " 'DEMO': Instrument(instrument_id=DEMO, tick_size=0.1, instrument_type=InstrumentType.STOCK, ...)}"
      ]
     },
     "metadata": {},
     "output_type": "display_data"
    }
   ],
   "source": [
    "# Load all instruments (products) available on the exchange\n",
    "instruments = exchange.get_instruments()\n",
    "instruments"
   ]
  },
  {
   "cell_type": "code",
   "execution_count": null,
   "id": "7929685b",
   "metadata": {},
   "outputs": [
    {
     "name": "stdout",
     "output_type": "stream",
     "text": [
      "Instrument(instrument_id=DEMO, tick_size=0.1, instrument_type=InstrumentType.STOCK, ...)\n"
     ]
    }
   ],
   "source": [
    "# The returned type of exchange.get_instruments() is a dictionary, select a single instrument\n",
    "instrument = instruments['DEMO']\n",
    "print(instrument)"
   ]
  },
  {
   "cell_type": "code",
   "execution_count": null,
   "id": "bba2bc83",
   "metadata": {},
   "outputs": [
    {
     "name": "stdout",
     "output_type": "stream",
     "text": [
      "DEMO\n",
      "InstrumentType.STOCK\n",
      "0.1\n",
      "None\n",
      "None\n",
      "None\n",
      "None\n"
     ]
    }
   ],
   "source": [
    "# From any instruments we can get a lot of data:\n",
    "print(instrument.instrument_id)\n",
    "print(instrument.instrument_type)\n",
    "print(instrument.tick_size)\n",
    "\n",
    "# For particular types of instruments, additional fields are populated (such as e.g. the option expiry, strike and kind, or the future expiry)\n",
    "# For a STOCK those fields are equal to None\n",
    "print(instrument.expiry)\n",
    "\n",
    "print(instrument.option_kind)\n",
    "print(instrument.strike)\n",
    "print(instrument.base_instrument_id)"
   ]
  },
  {
   "cell_type": "code",
   "execution_count": null,
   "id": "2198f8e8",
   "metadata": {},
   "outputs": [
    {
     "name": "stdout",
     "output_type": "stream",
     "text": [
      "It is a STOCK.\n"
     ]
    }
   ],
   "source": [
    "# The InstrumentType is an Enum (enumerable) type, that means its value is one of a few supported categories.\n",
    "# We can use this Enum to compare which specific type of Instrument we are dealing with.\n",
    "\n",
    "# First import the InstrumentType enum (we would normally do this at the top of the file)\n",
    "from optibook.common_types import InstrumentType\n",
    "\n",
    "# Then make a comparison as such:\n",
    "if instrument.instrument_type == InstrumentType.STOCK:\n",
    "    print('It is a STOCK.')\n",
    "elif instrument.instrument_type == InstrumentType.STOCK_OPTION:\n",
    "    print('It is a STOCK_OPTION.')\n",
    "elif instrument.instrument_type == InstrumentType.STOCK_FUTURE:\n",
    "    print('It is a STOCK_FUTURE.')\n",
    "else:\n",
    "    print(f'It was another instrument_type: {instrument.instrument_type}.')"
   ]
  },
  {
   "cell_type": "code",
   "execution_count": null,
   "id": "f1367f99-f94c-4554-9a26-6d79f13c10a6",
   "metadata": {},
   "outputs": [],
   "source": [
    "# Define a variable storing the instrument_id of the product we are interested in\n",
    "instrument_id = 'DEMO'"
   ]
  },
  {
   "cell_type": "markdown",
   "id": "f6dd85f5",
   "metadata": {},
   "source": [
    "### Order Book"
   ]
  },
  {
   "cell_type": "code",
   "execution_count": null,
   "id": "b484664d",
   "metadata": {},
   "outputs": [
    {
     "data": {
      "text/plain": [
       "PriceBook(DEMO 2022-08-08 14:06:03.405511)\n",
       " #bids | price | #asks \n",
       "       |  87.4 |  500  \n",
       "       |  87.2 |  250  \n",
       "  250  |  86.8 |       \n",
       "  500  |  86.6 |       "
      ]
     },
     "metadata": {},
     "output_type": "display_data"
    }
   ],
   "source": [
    "# The exchange.get_last_price_book() method returns a large compound datatype storing bids and offers, with price and volumes, and a timestamp. \n",
    "book = exchange.get_last_price_book(instrument_id)\n",
    "book"
   ]
  },
  {
   "cell_type": "code",
   "execution_count": null,
   "id": "0f36c667",
   "metadata": {},
   "outputs": [
    {
     "data": {
      "text/plain": [
       "[PriceVolume(price=86.80000000000001, volume=250),\n",
       " PriceVolume(price=86.60000000000001, volume=500)]"
      ]
     },
     "metadata": {},
     "output_type": "display_data"
    }
   ],
   "source": [
    "# How do we take it apart? First, extract one side of the order book, the bids, say\n",
    "bids = book.bids\n",
    "bids"
   ]
  },
  {
   "cell_type": "code",
   "execution_count": null,
   "id": "65bacde4",
   "metadata": {},
   "outputs": [
    {
     "data": {
      "text/plain": [
       "PriceVolume(price=86.80000000000001, volume=250)"
      ]
     },
     "metadata": {},
     "output_type": "display_data"
    }
   ],
   "source": [
    "# That's a list of PriceVolume combinations, which makes sense, one line of the order book is always a price with corresponding volume and we have multiple such orders\n",
    "# Let's find the most competitive order, which is always the first entry in the list\n",
    "best_bid = bids[0]\n",
    "best_bid"
   ]
  },
  {
   "cell_type": "code",
   "execution_count": null,
   "id": "8aef58c9",
   "metadata": {},
   "outputs": [
    {
     "name": "stdout",
     "output_type": "stream",
     "text": [
      "86.80000000000001\n",
      "250\n"
     ]
    }
   ],
   "source": [
    "# That's still a compound of price and volume, we can simply select which one we want to see to finally end up with a numeric type\n",
    "print(best_bid.price)\n",
    "print(best_bid.volume)"
   ]
  },
  {
   "cell_type": "code",
   "execution_count": null,
   "id": "d3397a73",
   "metadata": {},
   "outputs": [
    {
     "data": {
      "text/plain": [
       "86.80000000000001"
      ]
     },
     "metadata": {},
     "output_type": "display_data"
    }
   ],
   "source": [
    "# Putting it all together we can also write this. \n",
    "book.bids[0].price"
   ]
  },
  {
   "cell_type": "code",
   "execution_count": null,
   "id": "de8a2965",
   "metadata": {},
   "outputs": [
    {
     "name": "stdout",
     "output_type": "stream",
     "text": [
      "86.80000000000001\n"
     ]
    }
   ],
   "source": [
    "# Note you will see an error on the above line if there are no bids at all available (the list will have no entry 0)\n",
    "# Better is to check first\n",
    "if book.bids:\n",
    "    print(book.bids[0].price)\n",
    "else:\n",
    "    print('No bids in the order book at all.')"
   ]
  },
  {
   "cell_type": "markdown",
   "id": "657e984d",
   "metadata": {},
   "source": [
    "## Orders"
   ]
  },
  {
   "cell_type": "markdown",
   "id": "bfae0d7f",
   "metadata": {},
   "source": [
    "### Inserting"
   ]
  },
  {
   "cell_type": "code",
   "execution_count": null,
   "id": "cd708092",
   "metadata": {},
   "outputs": [],
   "source": [
    "# Insert bid LIMIT order - this trades against any current orders, and any remainders become new resting orders in the book\n",
    "# The returned value is a 'InsertOrderResponse' which, if successfull, contains the order_id of the order\n",
    "exchange.insert_order(instrument_id, price=10, volume=5, side='bid', order_type='limit')"
   ]
  },
  {
   "cell_type": "code",
   "execution_count": null,
   "id": "b4ba037d",
   "metadata": {},
   "outputs": [],
   "source": [
    "# Insert ask LIMIT order - this trades against any current orders, and any remainders become new resting orders in the book\n",
    "exchange.insert_order(instrument_id, price=20, volume=5, side='ask', order_type='limit')"
   ]
  },
  {
   "cell_type": "code",
   "execution_count": null,
   "id": "ee600b8c",
   "metadata": {},
   "outputs": [],
   "source": [
    "# Insert bid IOC order - this order trades against any resting volume which has an equal or better price, but does not remain in the \n",
    "# book if any volume is unfilled\n",
    "exchange.insert_order(instrument_id, price=10, volume=5, side='bid', order_type='ioc')"
   ]
  },
  {
   "cell_type": "code",
   "execution_count": null,
   "id": "00d93438",
   "metadata": {},
   "outputs": [],
   "source": [
    "# Insert ask IOC order - this order trades against any resting volume which has an equal or better price, but does not remain in the \n",
    "# book if any volume is unfilled\n",
    "exchange.insert_order(instrument_id, price=20, volume=5, side='ask', order_type='ioc')"
   ]
  },
  {
   "cell_type": "markdown",
   "id": "76f8c432",
   "metadata": {},
   "source": [
    "### Deleting & amending"
   ]
  },
  {
   "cell_type": "code",
   "execution_count": null,
   "id": "12e00220",
   "metadata": {},
   "outputs": [],
   "source": [
    "# Load a list of own outstanding/resting orders\n",
    "exchange.get_outstanding_orders(instrument_id)"
   ]
  },
  {
   "cell_type": "code",
   "execution_count": null,
   "id": "5206d7d4",
   "metadata": {},
   "outputs": [],
   "source": [
    "# Delete an order by order_id, the returned DeleteOrderRequest contains a boolean showing whether the delete was succesful\n",
    "exchange.delete_order(instrument_id, order_id=1234)"
   ]
  },
  {
   "cell_type": "code",
   "execution_count": null,
   "id": "e5b6ed25",
   "metadata": {},
   "outputs": [],
   "source": [
    "# Delete all outstanding orders for an instrument\n",
    "exchange.delete_orders(instrument_id)"
   ]
  },
  {
   "cell_type": "code",
   "execution_count": null,
   "id": "60d7379d",
   "metadata": {},
   "outputs": [],
   "source": [
    "# Change (amend) the volume of an existing resting order by order_id, the returned AmendOrderResponse contains a boolean showing whether the amend was succesful\n",
    "exchange.amend_order(instrument_id, order_id=1234, volume=30)"
   ]
  },
  {
   "cell_type": "markdown",
   "id": "9274cb67-b70b-43d3-9071-06f8de8a4c16",
   "metadata": {},
   "source": [
    "### Public tradeticks"
   ]
  },
  {
   "cell_type": "code",
   "execution_count": null,
   "id": "5eef657b-3e85-4bd4-aafc-06dad3a3ae5b",
   "metadata": {},
   "outputs": [],
   "source": [
    "# Load and store a list of all public tradeticks since the instantiation of the Exchange (upto a max limit)\n",
    "# These are trades between any participant, you may or may not have participated in these\n",
    "trade_tick_history = exchange.get_trade_tick_history(instrument_id)\n",
    "\n",
    "# Display last 5\n",
    "trade_tick_history[-5:]"
   ]
  },
  {
   "cell_type": "code",
   "execution_count": null,
   "id": "99f5730b-b23c-4adf-a88f-c1394ab03aa0",
   "metadata": {},
   "outputs": [],
   "source": [
    "# Poll all public tradeticks since the last time this method was called\n",
    "exchange.poll_new_trade_ticks(instrument_id)"
   ]
  },
  {
   "cell_type": "markdown",
   "id": "5419b543-5cc1-4bb0-9df2-af7684ccd0b1",
   "metadata": {},
   "source": [
    "### Private trades"
   ]
  },
  {
   "cell_type": "code",
   "execution_count": null,
   "id": "5dd35c7d-c2b0-48d7-93a8-0efeebb8b093",
   "metadata": {},
   "outputs": [],
   "source": [
    "# Load and store a list of all private trades you participated in since the instantiation of the Exchange (upto a max limit)\n",
    "trade_history = exchange.get_trade_history(instrument_id)\n",
    "\n",
    "# Display last 5\n",
    "trade_history[-5:]"
   ]
  },
  {
   "cell_type": "code",
   "execution_count": null,
   "id": "905cbd32-379b-4a01-aa63-7550b61fde58",
   "metadata": {},
   "outputs": [],
   "source": [
    "# Poll all private trades since the last time this method was called\n",
    "exchange.poll_new_trades(instrument_id)"
   ]
  },
  {
   "cell_type": "markdown",
   "id": "6ee74134-f310-41e8-9de0-aabe458c91f1",
   "metadata": {},
   "source": [
    "### Position & PnL"
   ]
  },
  {
   "cell_type": "code",
   "execution_count": null,
   "id": "5785926a-331b-4e43-ad16-6489430fdc43",
   "metadata": {},
   "outputs": [],
   "source": [
    "# Load current positions in all instruments\n",
    "exchange.get_positions()"
   ]
  },
  {
   "cell_type": "code",
   "execution_count": null,
   "id": "1016a928-4f7b-4c00-bb5b-4f5ed830ccc7",
   "metadata": {},
   "outputs": [],
   "source": [
    "# Load current positions in all instruments, including cash component (how much did we invest or gain by trading each instrument)\n",
    "exchange.get_positions_and_cash()"
   ]
  },
  {
   "cell_type": "code",
   "execution_count": null,
   "id": "1b9f95bf-d847-47de-bff7-3bb68188409b",
   "metadata": {},
   "outputs": [],
   "source": [
    "# Current PnL: sum of all cash components and value of the positions (evaluated against last-traded price) \n",
    "exchange.get_pnl()"
   ]
  },
  {
   "cell_type": "markdown",
   "id": "ddebfb30-9fae-4ca8-9834-500558435dfb",
   "metadata": {},
   "source": [
    "# Code Snippets"
   ]
  },
  {
   "cell_type": "markdown",
   "id": "f42a856e-6bff-40a7-ba1f-9596cff5914f",
   "metadata": {},
   "source": [
    "Combining a few of the exchange interactions above, we can write a code snippet to aggressively trade out of all currently held positions using IOC orders. \n",
    "\n",
    "That means selling all products you are long, and buying back all you are short. \n",
    "\n",
    "This is useful for starting with a clean slate, but doing so will come at a potentially large cost. \n",
    "\n",
    "You are not guaranteed to end up with a zero position afterwards, only that volume which is also available to trade in the market will be bought/sold."
   ]
  },
  {
   "cell_type": "code",
   "execution_count": null,
   "id": "556b6ad0-c62a-4324-9638-b9357676fecf",
   "metadata": {},
   "outputs": [],
   "source": [
    "MIN_SELLING_PRICE = 0.10\n",
    "MAX_BUYING_PRICE = 100000.00\n",
    "\n",
    "positions = exchange.get_positions()\n",
    "pnl = exchange.get_pnl()\n",
    "\n",
    "print(f'Positions before: {positions}')\n",
    "print(f'\\nPnL before: {pnl:.2f}')\n",
    "\n",
    "print(f'\\nTrading out of positions')\n",
    "for iid, pos in positions.items():\n",
    "    if pos > 0:\n",
    "        print(f'-- Inserting sell order for {pos} lots of {iid}, with limit price {MIN_SELLING_PRICE:.2f}')\n",
    "        exchange.insert_order(iid, price=MIN_SELLING_PRICE, volume=pos, side='ask', order_type='ioc')\n",
    "    elif pos < 0:\n",
    "        print(f'-- Inserting buy order for {abs(pos)} lots of {iid}, with limit price {MAX_BUYING_PRICE:.2f}')\n",
    "        exchange.insert_order(iid, price=MAX_BUYING_PRICE, volume=-pos, side='bid', order_type='ioc')\n",
    "    else:\n",
    "        print(f'-- No initial position in {iid}, skipping..')\n",
    "    \n",
    "    time.sleep(0.10)\n",
    "\n",
    "time.sleep(1.0)\n",
    "\n",
    "positions = exchange.get_positions()\n",
    "pnl = exchange.get_pnl()\n",
    "print(f'\\nPositions after: {positions}')\n",
    "print(f'\\nPnL after: {pnl:.2f}')"
   ]
  },
  {
   "cell_type": "code",
   "execution_count": null,
   "id": "2a98c3de-c0e3-4a43-adf6-9879ce22b50a",
   "metadata": {},
   "outputs": [],
   "source": []
  }
 ],
 "metadata": {
  "kernelspec": {
   "display_name": "Python 3",
   "language": "python",
   "name": "python3"
  },
  "language_info": {
   "codemirror_mode": {
    "name": "ipython",
    "version": 3
   },
   "file_extension": ".py",
   "mimetype": "text/x-python",
   "name": "python",
   "nbconvert_exporter": "python",
   "pygments_lexer": "ipython3",
   "version": "3.6.12"
  }
 },
 "nbformat": 4,
 "nbformat_minor": 5
}
